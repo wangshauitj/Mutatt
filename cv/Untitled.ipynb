{
 "cells": [
  {
   "cell_type": "code",
   "execution_count": 1,
   "metadata": {},
   "outputs": [
    {
     "name": "stdout",
     "output_type": "stream",
     "text": [
      "\n",
      " 1.2789  0.4686  0.0585\n",
      "-0.6148  0.5270  1.4494\n",
      " 0.4353 -0.0601  0.9673\n",
      "[torch.FloatTensor of size 3x3]\n",
      "\n"
     ]
    }
   ],
   "source": [
    "import torch\n",
    "print (torch.randn(3,3))"
   ]
  }
 ],
 "metadata": {
  "kernelspec": {
   "display_name": "pytorch0.2_py2.7",
   "language": "python",
   "name": "pytorch0.2_py2.7"
  },
  "language_info": {
   "codemirror_mode": {
    "name": "ipython",
    "version": 2
   },
   "file_extension": ".py",
   "mimetype": "text/x-python",
   "name": "python",
   "nbconvert_exporter": "python",
   "pygments_lexer": "ipython2",
   "version": "2.7.15"
  }
 },
 "nbformat": 4,
 "nbformat_minor": 2
}
